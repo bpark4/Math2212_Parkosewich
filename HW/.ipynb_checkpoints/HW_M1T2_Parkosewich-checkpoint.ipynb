{
 "cells": [
  {
   "cell_type": "markdown",
   "metadata": {},
   "source": [
    "# Question 1\n",
    "\n",
    "Pandas is a data analysis and manipulation library.\n",
    "Numpy is a library for utilizing large arrays and visualizing datasets.\n",
    "Matplotlibs is useful for creating static and animated visualizations of data."
   ]
  },
  {
   "cell_type": "code",
   "execution_count": 3,
   "metadata": {},
   "outputs": [
    {
     "data": {
      "text/html": [
       "<div>\n",
       "<style scoped>\n",
       "    .dataframe tbody tr th:only-of-type {\n",
       "        vertical-align: middle;\n",
       "    }\n",
       "\n",
       "    .dataframe tbody tr th {\n",
       "        vertical-align: top;\n",
       "    }\n",
       "\n",
       "    .dataframe thead th {\n",
       "        text-align: right;\n",
       "    }\n",
       "</style>\n",
       "<table border=\"1\" class=\"dataframe\">\n",
       "  <thead>\n",
       "    <tr style=\"text-align: right;\">\n",
       "      <th></th>\n",
       "      <th>team</th>\n",
       "      <th>wins</th>\n",
       "      <th>draws</th>\n",
       "      <th>losses</th>\n",
       "    </tr>\n",
       "  </thead>\n",
       "  <tbody>\n",
       "    <tr>\n",
       "      <th>0</th>\n",
       "      <td>FCBarcelona</td>\n",
       "      <td>30</td>\n",
       "      <td>6</td>\n",
       "      <td>2</td>\n",
       "    </tr>\n",
       "    <tr>\n",
       "      <th>1</th>\n",
       "      <td>FCBarcelona</td>\n",
       "      <td>28</td>\n",
       "      <td>7</td>\n",
       "      <td>3</td>\n",
       "    </tr>\n",
       "    <tr>\n",
       "      <th>2</th>\n",
       "      <td>FCBarcelona</td>\n",
       "      <td>32</td>\n",
       "      <td>4</td>\n",
       "      <td>2</td>\n",
       "    </tr>\n",
       "    <tr>\n",
       "      <th>3</th>\n",
       "      <td>RMadrid</td>\n",
       "      <td>29</td>\n",
       "      <td>5</td>\n",
       "      <td>4</td>\n",
       "    </tr>\n",
       "    <tr>\n",
       "      <th>4</th>\n",
       "      <td>RMadrid</td>\n",
       "      <td>32</td>\n",
       "      <td>4</td>\n",
       "      <td>2</td>\n",
       "    </tr>\n",
       "    <tr>\n",
       "      <th>5</th>\n",
       "      <td>RMadrid</td>\n",
       "      <td>26</td>\n",
       "      <td>7</td>\n",
       "      <td>5</td>\n",
       "    </tr>\n",
       "    <tr>\n",
       "      <th>6</th>\n",
       "      <td>ValenciaCF</td>\n",
       "      <td>21</td>\n",
       "      <td>8</td>\n",
       "      <td>9</td>\n",
       "    </tr>\n",
       "    <tr>\n",
       "      <th>7</th>\n",
       "      <td>ValenciaCF</td>\n",
       "      <td>17</td>\n",
       "      <td>10</td>\n",
       "      <td>11</td>\n",
       "    </tr>\n",
       "    <tr>\n",
       "      <th>8</th>\n",
       "      <td>ValenciaCF</td>\n",
       "      <td>19</td>\n",
       "      <td>8</td>\n",
       "      <td>11</td>\n",
       "    </tr>\n",
       "  </tbody>\n",
       "</table>\n",
       "</div>"
      ],
      "text/plain": [
       "           team  wins  draws  losses \n",
       "0  FCBarcelona     30      6        2\n",
       "1  FCBarcelona     28      7        3\n",
       "2  FCBarcelona     32      4        2\n",
       "3      RMadrid     29      5        4\n",
       "4      RMadrid     32      4        2\n",
       "5      RMadrid     26      7        5\n",
       "6   ValenciaCF     21      8        9\n",
       "7   ValenciaCF     17     10       11\n",
       "8   ValenciaCF     19      8       11"
      ]
     },
     "execution_count": 3,
     "metadata": {},
     "output_type": "execute_result"
    }
   ],
   "source": [
    "import pandas as pd\n",
    "import numpy as np\n",
    "import matplotlib.pyplot as plt\n",
    "\n",
    "data = {\n",
    "    \"year\" : [\n",
    "        2010 , 2011 , 2012 ,\n",
    "        2010 , 2011 , 2012 ,\n",
    "        2010 , 2011 , 2012\n",
    "    ],\n",
    "    \"team\" : [\n",
    "        \"FCBarcelona \", \"FCBarcelona \",\n",
    "        \"FCBarcelona \", \"RMadrid \",\n",
    "        \"RMadrid \", 'RMadrid ',\n",
    "        'ValenciaCF ', 'ValenciaCF ',\n",
    "        'ValenciaCF '\n",
    "    ],\n",
    "    'wins' : [30, 28, 32, 29, 32, 26, 21, 17, 19],\n",
    "    'draws' : [6, 7, 4, 5, 4, 7, 8, 10, 8],\n",
    "    'losses ' : [2, 3, 2, 4, 2, 5, 9, 11, 11]\n",
    "}\n",
    "\n",
    "football = pd.DataFrame(\n",
    "    data ,\n",
    "    columns = [\n",
    "        'team' , 'wins' , 'draws' , 'losses '\n",
    "    ]\n",
    ")\n",
    "\n",
    "football"
   ]
  },
  {
   "cell_type": "markdown",
   "metadata": {},
   "source": [
    "# Question 3\n",
    "\n",
    "A dictionary in Python holds data values in a key:value structure. Similar to an array, except unordered and utilizing a key phrase instead of an index number to access desired information."
   ]
  },
  {
   "cell_type": "markdown",
   "metadata": {},
   "source": [
    "# Question 4\n",
    "\n",
    "The parameters for Dataframe() are data, index, columns, dtype, and copy."
   ]
  },
  {
   "cell_type": "code",
   "execution_count": 10,
   "metadata": {},
   "outputs": [
    {
     "name": "stdout",
     "output_type": "stream",
     "text": [
      "4\n",
      "12\n"
     ]
    }
   ],
   "source": [
    "jimmy = 2\n",
    "print jimmy**2\n",
    "print jimmy + 10"
   ]
  },
  {
   "cell_type": "markdown",
   "metadata": {},
   "source": [
    "# Question 5\n",
    "\n",
    "The line jimmy = 2 is a declaration of the variable jimmy, initialized with the number 2.\n",
    "\n",
    "jimmy**2 prints out the data stored in the variable jimmy, the number 2, squared: 4.\n",
    "\n",
    "jimmy + 10 prints out the data stored in the variable jimmy, the number 2, added to 10: 12.\n",
    "\n",
    "jimmy is an integer."
   ]
  },
  {
   "cell_type": "code",
   "execution_count": null,
   "metadata": {},
   "outputs": [],
   "source": []
  }
 ],
 "metadata": {
  "kernelspec": {
   "display_name": "Python 2",
   "language": "python",
   "name": "python2"
  },
  "language_info": {
   "codemirror_mode": {
    "name": "ipython",
    "version": 2
   },
   "file_extension": ".py",
   "mimetype": "text/x-python",
   "name": "python",
   "nbconvert_exporter": "python",
   "pygments_lexer": "ipython2",
   "version": "2.7.16"
  }
 },
 "nbformat": 4,
 "nbformat_minor": 2
}
