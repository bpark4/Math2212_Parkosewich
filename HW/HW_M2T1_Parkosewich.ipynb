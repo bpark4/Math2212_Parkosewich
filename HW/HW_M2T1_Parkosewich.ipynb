{
 "cells": [
  {
   "cell_type": "markdown",
   "metadata": {},
   "source": [
    "# Problem 1\n",
    "\n",
    "* a) Descriptive statistics is the process of describing the data set that you have without considering how it relates to some larger picture. This is used in machine learning to understand how to do a task based on recieved datasets.\n",
    "* b) Inferential statistics is the process of using data from a small dataset to infer information about the populace as a whole. This is useful for understanding the processes of populations for which it is impossible to recieve data from the whole.\n",
    "* c) Data science is the application of statistics in a computational mindset. Statisticians see data scientists as computer scientists, and computer scientists see data scientists as statisticians."
   ]
  },
  {
   "cell_type": "code",
   "execution_count": null,
   "metadata": {},
   "outputs": [],
   "source": []
  }
 ],
 "metadata": {
  "kernelspec": {
   "display_name": "Python 2",
   "language": "python",
   "name": "python2"
  },
  "language_info": {
   "codemirror_mode": {
    "name": "ipython",
    "version": 2
   },
   "file_extension": ".py",
   "mimetype": "text/x-python",
   "name": "python",
   "nbconvert_exporter": "python",
   "pygments_lexer": "ipython2",
   "version": "2.7.16"
  }
 },
 "nbformat": 4,
 "nbformat_minor": 2
}
