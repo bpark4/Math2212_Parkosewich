{
 "cells": [
  {
   "cell_type": "markdown",
   "metadata": {},
   "source": [
    "# Question 1"
   ]
  },
  {
   "cell_type": "markdown",
   "metadata": {},
   "source": [
    "This question is with regard to the notebook in this folder titled: FootballDataframe.ipynb\n",
    "\n",
    "A.   The delimeters being used are parenthesis (), square brackets [], and curly brackets {}.\n",
    "B.   The indentation helps to seperate the code to make it more readable and easier to edit.\n",
    "C.   Each component is a heading for the data being read from the dictionary. The term pd is used to call from the pandas library, which contains useful data analysis functions."
   ]
  },
  {
   "cell_type": "markdown",
   "metadata": {},
   "source": [
    "# Question 2"
   ]
  },
  {
   "cell_type": "markdown",
   "metadata": {},
   "source": [
    "This question is talking about the file in the parent folder of this file: ../sandbox.ipynb\n",
    "I created a dictionary and made it a dataframe."
   ]
  },
  {
   "cell_type": "markdown",
   "metadata": {},
   "source": [
    "# Question 3"
   ]
  },
  {
   "cell_type": "markdown",
   "metadata": {},
   "source": [
    "This question is talking about the file: ../Eurostat/M1_Eurostat.ipynb\n",
    "\n",
    "A.   edu is a variable storing information fed to it through the read_csv function. The pd in read_csv is referring to the library which read_csv is contained in, pandas.\n",
    "B.   read_csv reads a csv file based on given parameters and organizes the desired columns into a readable table.\n",
    "C.   usecols tells the csv parser to only grab and store the information in the given column headers.\n",
    "D.   The equal sign is telling the system that whatever the pd.read_csv() function outputs should be stored in the variable called edu."
   ]
  },
  {
   "cell_type": "markdown",
   "metadata": {},
   "source": [
    "# Question 4"
   ]
  },
  {
   "cell_type": "markdown",
   "metadata": {},
   "source": [
    "A.   The function edu.head() returns a table of only the first 5 entries provided through the read_csv function, which edu was created with.\n",
    "B.   The function edu.tail() returns a table of only the last 5 entries provided through the read_csv function, which edu was created with.\n",
    "C.   The function edu.describe() returns an analysis of the numerical data found within the table, created through pd.read_csv."
   ]
  }
 ],
 "metadata": {
  "kernelspec": {
   "display_name": "Python 2",
   "language": "python",
   "name": "python2"
  },
  "language_info": {
   "codemirror_mode": {
    "name": "ipython",
    "version": 2
   },
   "file_extension": ".py",
   "mimetype": "text/x-python",
   "name": "python",
   "nbconvert_exporter": "python",
   "pygments_lexer": "ipython2",
   "version": "2.7.16"
  }
 },
 "nbformat": 4,
 "nbformat_minor": 2
}
