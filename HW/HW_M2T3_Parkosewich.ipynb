{
 "cells": [
  {
   "cell_type": "markdown",
   "metadata": {},
   "source": [
    "# Question 1\n",
    "\n",
    "There are 500 observations in the census dataframe."
   ]
  },
  {
   "cell_type": "markdown",
   "metadata": {},
   "source": [
    "# Question 2\n",
    "\n",
    "The variables in the census dataframe are:\n",
    "* census_year\n",
    "* state_fips_code\n",
    "* total_family_income\n",
    "* age\n",
    "* sex\n",
    "* race_general\n",
    "* marital_status\n",
    "* total_personal_income"
   ]
  },
  {
   "cell_type": "markdown",
   "metadata": {},
   "source": [
    "# Question 3\n",
    "\n",
    "* census_year: Numerical\n",
    "* state_fips_code: Catagorical\n",
    "* total_family_income: Numerical\n",
    "* age: Numerical\n",
    "* sex: Catagorical\n",
    "* race_general: Catagorical\n",
    "* marital_status: Catagorical\n",
    "* total_personal_income: Numerical"
   ]
  },
  {
   "cell_type": "code",
   "execution_count": null,
   "metadata": {},
   "outputs": [],
   "source": []
  }
 ],
 "metadata": {
  "kernelspec": {
   "display_name": "Python 2",
   "language": "python",
   "name": "python2"
  },
  "language_info": {
   "codemirror_mode": {
    "name": "ipython",
    "version": 2
   },
   "file_extension": ".py",
   "mimetype": "text/x-python",
   "name": "python",
   "nbconvert_exporter": "python",
   "pygments_lexer": "ipython2",
   "version": "2.7.16"
  }
 },
 "nbformat": 4,
 "nbformat_minor": 2
}
