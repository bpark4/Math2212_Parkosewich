{
 "cells": [
  {
   "cell_type": "markdown",
   "metadata": {},
   "source": [
    "# Question 1\n",
    "\n",
    "This question was done in directory ../M2_Statistics/"
   ]
  },
  {
   "cell_type": "markdown",
   "metadata": {},
   "source": [
    "# Question 2\n",
    "\n",
    "* The r in the first line sets the file being open to read mode, allowing it to be read but not written to\n",
    "* chr_int takes a string as a parameter, then checks if the string is an integer. If the string is an integer it returns the string as an integer, if not it returns 0\n",
    "* The second part of the code stores all of the information from the file, line by line, into an array. This larger array is made up of smaller arrays, one for each line, seperated at each comma.\n",
    "* Splitting the lines without a space after the comma ruins the chr_int function because each number has whitespace in front, making it not a digit in the eyes of python and causing the program to turn all numbers into 0. It also includes this whitespace in the string parts of the data, which is less detrimental to the data."
   ]
  },
  {
   "cell_type": "markdown",
   "metadata": {},
   "source": [
    "# Question 3\n",
    "\n",
    "We should use a DataFrame to store the information.\n",
    "\n",
    "For that we have to get the column names, in the same order as the data. Then put both the data and column names into a DataFrame:\n",
    "\n",
    "\n",
    "adult = pd.DataFrame(\n",
    "    data,\n",
    "    columns = [\n",
    "        'age', 'type-employer', 'fnlwgt',\n",
    "        'education', 'education_num', 'marital',\n",
    "        'occupation', 'relationship','race',\n",
    "        'sex', 'capital_gain', 'capital_loss',\n",
    "        'hr_per_week', 'country', 'income'\n",
    "    ]\n",
    "\n",
    ")"
   ]
  },
  {
   "cell_type": "markdown",
   "metadata": {},
   "source": [
    "# Question 4\n",
    "\n",
    "Python places the column names in the order that they come in, so the first column name goes with the first peice of data in each array, the second column name goes with the second peice of data in each array, etc."
   ]
  },
  {
   "cell_type": "markdown",
   "metadata": {},
   "source": [
    "# Question 6\n",
    "\n",
    "This code can be found in directory ../M2_Statistics/M2_Adult in working form at python box 4.\n",
    "\n",
    "Here is the plain text of the code:\n",
    "\n",
    "men = adult[adult['sex'] == \"Male\"]\n",
    "\n",
    "women = adult[adult['sex'] == \"Female\"]\n",
    "\n",
    "men_high_income = adult[(adult['sex']==\"Male\") &(adult['income'] == \">50K\")]\n",
    "\n",
    "women_high_income = adult[(adult['sex']==\"Female\") &(adult['income'] == \">50K\")]\n",
    "\n",
    "men_low_income = adult[(adult['sex']==\"Male\") &(adult['income'] == \"<=50K\")]\n",
    "\n",
    "women_low_income = adult[(adult['sex']==\"Female\") &(adult['income'] == \"<=50K\")]"
   ]
  },
  {
   "cell_type": "code",
   "execution_count": null,
   "metadata": {},
   "outputs": [],
   "source": []
  }
 ],
 "metadata": {
  "kernelspec": {
   "display_name": "Python 2",
   "language": "python",
   "name": "python2"
  },
  "language_info": {
   "codemirror_mode": {
    "name": "ipython",
    "version": 2
   },
   "file_extension": ".py",
   "mimetype": "text/x-python",
   "name": "python",
   "nbconvert_exporter": "python",
   "pygments_lexer": "ipython2",
   "version": "2.7.16"
  }
 },
 "nbformat": 4,
 "nbformat_minor": 2
}
