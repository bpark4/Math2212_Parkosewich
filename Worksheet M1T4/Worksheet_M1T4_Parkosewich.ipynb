{
 "cells": [
  {
   "cell_type": "markdown",
   "metadata": {},
   "source": [
    "# Problem 1"
   ]
  },
  {
   "cell_type": "code",
   "execution_count": 1,
   "metadata": {},
   "outputs": [],
   "source": [
    "import pandas as pd\n",
    "import numpy as np\n",
    "import matplotlib.pyplot as plt"
   ]
  },
  {
   "cell_type": "code",
   "execution_count": 11,
   "metadata": {},
   "outputs": [
    {
     "data": {
      "text/plain": [
       "0      NaN\n",
       "1      NaN\n",
       "2    10.00\n",
       "3    10.06\n",
       "4     9.90\n",
       "Name: Value, dtype: float64"
      ]
     },
     "execution_count": 11,
     "metadata": {},
     "output_type": "execute_result"
    }
   ],
   "source": [
    "edu = pd.read_csv('educ_figdp_1_Data.csv',\n",
    "    na_values = ':',\n",
    "    usecols = ['TIME', 'GEO', 'Value'])\n",
    "\n",
    "val_t2 = edu['Value']*2\n",
    "val_t2.head()"
   ]
  },
  {
   "cell_type": "code",
   "execution_count": 12,
   "metadata": {},
   "outputs": [
    {
     "data": {
      "text/plain": [
       "0     NaN\n",
       "1     NaN\n",
       "2   -5.00\n",
       "3   -5.03\n",
       "4   -4.95\n",
       "Name: Value, dtype: float64"
      ]
     },
     "execution_count": 12,
     "metadata": {},
     "output_type": "execute_result"
    }
   ],
   "source": [
    "neg_val = -edu['Value']\n",
    "neg_val.head()"
   ]
  },
  {
   "cell_type": "code",
   "execution_count": 13,
   "metadata": {},
   "outputs": [
    {
     "data": {
      "text/plain": [
       "0           NaN\n",
       "1           NaN\n",
       "2    625.000000\n",
       "3    640.135541\n",
       "4    600.372506\n",
       "Name: Value, dtype: float64"
      ]
     },
     "execution_count": 13,
     "metadata": {},
     "output_type": "execute_result"
    }
   ],
   "source": [
    "val_pow4 = edu['Value']**4\n",
    "val_pow4.head()"
   ]
  },
  {
   "cell_type": "code",
   "execution_count": 14,
   "metadata": {},
   "outputs": [
    {
     "data": {
      "text/plain": [
       "0        NaN\n",
       "1        NaN\n",
       "2   -10.0000\n",
       "3   -10.2109\n",
       "4    -9.6525\n",
       "Name: Value, dtype: float64"
      ]
     },
     "execution_count": 14,
     "metadata": {},
     "output_type": "execute_result"
    }
   ],
   "source": [
    "val_funct = (edu['Value']*3)-(edu['Value']**2)\n",
    "val_funct.head()"
   ]
  },
  {
   "cell_type": "code",
   "execution_count": 15,
   "metadata": {},
   "outputs": [
    {
     "data": {
      "text/plain": [
       "0           NaN\n",
       "1           NaN\n",
       "2    620.000000\n",
       "3    634.954641\n",
       "4    595.670006\n",
       "Name: Value, dtype: float64"
      ]
     },
     "execution_count": 15,
     "metadata": {},
     "output_type": "execute_result"
    }
   ],
   "source": [
    "val_complete = val_t2 + neg_val + val_pow4 + val_funct\n",
    "val_complete.head()"
   ]
  },
  {
   "cell_type": "markdown",
   "metadata": {},
   "source": [
    "# Problem 2"
   ]
  },
  {
   "cell_type": "code",
   "execution_count": 16,
   "metadata": {},
   "outputs": [
    {
     "data": {
      "text/plain": [
       "0          NaN\n",
       "1          NaN\n",
       "2    32.000000\n",
       "3    32.672388\n",
       "4    30.909963\n",
       "Name: Value, dtype: float64"
      ]
     },
     "execution_count": 16,
     "metadata": {},
     "output_type": "execute_result"
    }
   ],
   "source": [
    "edu['Value'].apply(np.exp2).head()"
   ]
  },
  {
   "cell_type": "code",
   "execution_count": 17,
   "metadata": {},
   "outputs": [
    {
     "data": {
      "text/plain": [
       "0         NaN\n",
       "1         NaN\n",
       "2    1.609438\n",
       "3    1.615420\n",
       "4    1.599388\n",
       "Name: Value, dtype: float64"
      ]
     },
     "execution_count": 17,
     "metadata": {},
     "output_type": "execute_result"
    }
   ],
   "source": [
    "edu['Value'].apply(np.log).head()"
   ]
  },
  {
   "cell_type": "code",
   "execution_count": 19,
   "metadata": {},
   "outputs": [
    {
     "data": {
      "text/plain": [
       "0     [nan]\n",
       "1     [nan]\n",
       "2     [5.0]\n",
       "3    [5.03]\n",
       "4    [4.95]\n",
       "Name: Value, dtype: object"
      ]
     },
     "execution_count": 19,
     "metadata": {},
     "output_type": "execute_result"
    }
   ],
   "source": [
    "edu['Value'].apply(np.cumsum).head()"
   ]
  },
  {
   "cell_type": "code",
   "execution_count": 20,
   "metadata": {},
   "outputs": [
    {
     "data": {
      "text/plain": [
       "0    NaN\n",
       "1    NaN\n",
       "2    5.0\n",
       "3    5.0\n",
       "4    4.0\n",
       "Name: Value, dtype: float64"
      ]
     },
     "execution_count": 20,
     "metadata": {},
     "output_type": "execute_result"
    }
   ],
   "source": [
    "edu['Value'].apply(np.floor).head()"
   ]
  },
  {
   "cell_type": "code",
   "execution_count": 21,
   "metadata": {},
   "outputs": [
    {
     "data": {
      "text/plain": [
       "0         NaN\n",
       "1         NaN\n",
       "2    1.373401\n",
       "3    1.374548\n",
       "4    1.371459\n",
       "Name: Value, dtype: float64"
      ]
     },
     "execution_count": 21,
     "metadata": {},
     "output_type": "execute_result"
    }
   ],
   "source": [
    "edu['Value'].apply(np.arctan).head()"
   ]
  },
  {
   "cell_type": "code",
   "execution_count": 22,
   "metadata": {},
   "outputs": [
    {
     "data": {
      "text/plain": [
       "291730871263727.44"
      ]
     },
     "execution_count": 22,
     "metadata": {},
     "output_type": "execute_result"
    }
   ],
   "source": [
    "np.sinh(34)"
   ]
  },
  {
   "cell_type": "markdown",
   "metadata": {},
   "source": [
    "# Problem 3"
   ]
  },
  {
   "cell_type": "code",
   "execution_count": 23,
   "metadata": {},
   "outputs": [
    {
     "data": {
      "text/plain": [
       "0      NaN\n",
       "1      NaN\n",
       "2   -10.00\n",
       "3   -10.06\n",
       "4    -9.90\n",
       "Name: Value, dtype: float64"
      ]
     },
     "execution_count": 23,
     "metadata": {},
     "output_type": "execute_result"
    }
   ],
   "source": [
    "def double_neg(x):\n",
    "    x *= 2\n",
    "    return -x\n",
    "\n",
    "edu['Value'].apply(double_neg).head()"
   ]
  },
  {
   "cell_type": "markdown",
   "metadata": {},
   "source": [
    "# Problem 4"
   ]
  },
  {
   "cell_type": "markdown",
   "metadata": {},
   "source": [
    "The code groups together all of the data based on the year (TIME), then tries to find the mean value of all of the geographical locations (GEO) per year, which ends up throwing an error because you can't take the mean of a group of strings."
   ]
  },
  {
   "cell_type": "markdown",
   "metadata": {},
   "source": [
    "# Problem 5"
   ]
  },
  {
   "cell_type": "code",
   "execution_count": 24,
   "metadata": {},
   "outputs": [
    {
     "data": {
      "text/html": [
       "<div>\n",
       "<style scoped>\n",
       "    .dataframe tbody tr th:only-of-type {\n",
       "        vertical-align: middle;\n",
       "    }\n",
       "\n",
       "    .dataframe tbody tr th {\n",
       "        vertical-align: top;\n",
       "    }\n",
       "\n",
       "    .dataframe thead th {\n",
       "        text-align: right;\n",
       "    }\n",
       "</style>\n",
       "<table border=\"1\" class=\"dataframe\">\n",
       "  <thead>\n",
       "    <tr style=\"text-align: right;\">\n",
       "      <th></th>\n",
       "      <th>Value</th>\n",
       "    </tr>\n",
       "    <tr>\n",
       "      <th>TIME</th>\n",
       "      <th></th>\n",
       "    </tr>\n",
       "  </thead>\n",
       "  <tbody>\n",
       "    <tr>\n",
       "      <th>2000</th>\n",
       "      <td>2.382541e+16</td>\n",
       "    </tr>\n",
       "    <tr>\n",
       "      <th>2001</th>\n",
       "      <td>1.569333e+20</td>\n",
       "    </tr>\n",
       "    <tr>\n",
       "      <th>2002</th>\n",
       "      <td>2.875770e+22</td>\n",
       "    </tr>\n",
       "    <tr>\n",
       "      <th>2003</th>\n",
       "      <td>3.258396e+22</td>\n",
       "    </tr>\n",
       "    <tr>\n",
       "      <th>2004</th>\n",
       "      <td>2.160327e+22</td>\n",
       "    </tr>\n",
       "    <tr>\n",
       "      <th>2005</th>\n",
       "      <td>2.431149e+22</td>\n",
       "    </tr>\n",
       "    <tr>\n",
       "      <th>2006</th>\n",
       "      <td>1.279190e+21</td>\n",
       "    </tr>\n",
       "    <tr>\n",
       "      <th>2007</th>\n",
       "      <td>2.842390e+21</td>\n",
       "    </tr>\n",
       "    <tr>\n",
       "      <th>2008</th>\n",
       "      <td>5.880111e+20</td>\n",
       "    </tr>\n",
       "    <tr>\n",
       "      <th>2009</th>\n",
       "      <td>1.889617e+22</td>\n",
       "    </tr>\n",
       "    <tr>\n",
       "      <th>2010</th>\n",
       "      <td>1.259117e+22</td>\n",
       "    </tr>\n",
       "    <tr>\n",
       "      <th>2011</th>\n",
       "      <td>6.129728e+21</td>\n",
       "    </tr>\n",
       "  </tbody>\n",
       "</table>\n",
       "</div>"
      ],
      "text/plain": [
       "             Value\n",
       "TIME              \n",
       "2000  2.382541e+16\n",
       "2001  1.569333e+20\n",
       "2002  2.875770e+22\n",
       "2003  3.258396e+22\n",
       "2004  2.160327e+22\n",
       "2005  2.431149e+22\n",
       "2006  1.279190e+21\n",
       "2007  2.842390e+21\n",
       "2008  5.880111e+20\n",
       "2009  1.889617e+22\n",
       "2010  1.259117e+22\n",
       "2011  6.129728e+21"
      ]
     },
     "execution_count": 24,
     "metadata": {},
     "output_type": "execute_result"
    }
   ],
   "source": [
    "edu[['TIME','Value']].groupby('TIME').prod()"
   ]
  },
  {
   "cell_type": "markdown",
   "metadata": {},
   "source": [
    "# Problem 6"
   ]
  },
  {
   "cell_type": "code",
   "execution_count": 26,
   "metadata": {},
   "outputs": [
    {
     "data": {
      "text/html": [
       "<div>\n",
       "<style scoped>\n",
       "    .dataframe tbody tr th:only-of-type {\n",
       "        vertical-align: middle;\n",
       "    }\n",
       "\n",
       "    .dataframe tbody tr th {\n",
       "        vertical-align: top;\n",
       "    }\n",
       "\n",
       "    .dataframe thead th {\n",
       "        text-align: right;\n",
       "    }\n",
       "</style>\n",
       "<table border=\"1\" class=\"dataframe\">\n",
       "  <thead>\n",
       "    <tr style=\"text-align: right;\">\n",
       "      <th>TIME</th>\n",
       "      <th>2000</th>\n",
       "      <th>2001</th>\n",
       "      <th>2002</th>\n",
       "      <th>2003</th>\n",
       "      <th>2004</th>\n",
       "      <th>2005</th>\n",
       "      <th>2006</th>\n",
       "      <th>2007</th>\n",
       "      <th>2008</th>\n",
       "      <th>2009</th>\n",
       "      <th>2010</th>\n",
       "      <th>2011</th>\n",
       "    </tr>\n",
       "    <tr>\n",
       "      <th>GEO</th>\n",
       "      <th></th>\n",
       "      <th></th>\n",
       "      <th></th>\n",
       "      <th></th>\n",
       "      <th></th>\n",
       "      <th></th>\n",
       "      <th></th>\n",
       "      <th></th>\n",
       "      <th></th>\n",
       "      <th></th>\n",
       "      <th></th>\n",
       "      <th></th>\n",
       "    </tr>\n",
       "  </thead>\n",
       "  <tbody>\n",
       "    <tr>\n",
       "      <th>Austria</th>\n",
       "      <td>5.66</td>\n",
       "      <td>5.74</td>\n",
       "      <td>5.68</td>\n",
       "      <td>5.53</td>\n",
       "      <td>5.48</td>\n",
       "      <td>5.44</td>\n",
       "      <td>5.40</td>\n",
       "      <td>5.33</td>\n",
       "      <td>5.47</td>\n",
       "      <td>5.98</td>\n",
       "      <td>5.91</td>\n",
       "      <td>5.80</td>\n",
       "    </tr>\n",
       "    <tr>\n",
       "      <th>Belgium</th>\n",
       "      <td>NaN</td>\n",
       "      <td>5.99</td>\n",
       "      <td>6.09</td>\n",
       "      <td>6.02</td>\n",
       "      <td>5.95</td>\n",
       "      <td>5.92</td>\n",
       "      <td>5.98</td>\n",
       "      <td>6.00</td>\n",
       "      <td>6.43</td>\n",
       "      <td>6.57</td>\n",
       "      <td>6.58</td>\n",
       "      <td>6.55</td>\n",
       "    </tr>\n",
       "    <tr>\n",
       "      <th>Bulgaria</th>\n",
       "      <td>3.88</td>\n",
       "      <td>3.70</td>\n",
       "      <td>3.94</td>\n",
       "      <td>4.09</td>\n",
       "      <td>4.40</td>\n",
       "      <td>4.25</td>\n",
       "      <td>4.04</td>\n",
       "      <td>3.88</td>\n",
       "      <td>4.44</td>\n",
       "      <td>4.58</td>\n",
       "      <td>4.10</td>\n",
       "      <td>3.82</td>\n",
       "    </tr>\n",
       "    <tr>\n",
       "      <th>Cyprus</th>\n",
       "      <td>5.42</td>\n",
       "      <td>5.98</td>\n",
       "      <td>6.60</td>\n",
       "      <td>7.37</td>\n",
       "      <td>6.77</td>\n",
       "      <td>6.95</td>\n",
       "      <td>7.02</td>\n",
       "      <td>6.95</td>\n",
       "      <td>7.45</td>\n",
       "      <td>7.98</td>\n",
       "      <td>7.92</td>\n",
       "      <td>7.87</td>\n",
       "    </tr>\n",
       "    <tr>\n",
       "      <th>Czech Republic</th>\n",
       "      <td>3.83</td>\n",
       "      <td>3.93</td>\n",
       "      <td>4.15</td>\n",
       "      <td>4.32</td>\n",
       "      <td>4.20</td>\n",
       "      <td>4.08</td>\n",
       "      <td>4.42</td>\n",
       "      <td>4.05</td>\n",
       "      <td>3.92</td>\n",
       "      <td>4.36</td>\n",
       "      <td>4.25</td>\n",
       "      <td>4.51</td>\n",
       "    </tr>\n",
       "    <tr>\n",
       "      <th>Denmark</th>\n",
       "      <td>8.28</td>\n",
       "      <td>8.44</td>\n",
       "      <td>8.44</td>\n",
       "      <td>8.33</td>\n",
       "      <td>8.43</td>\n",
       "      <td>8.30</td>\n",
       "      <td>7.97</td>\n",
       "      <td>7.81</td>\n",
       "      <td>7.68</td>\n",
       "      <td>8.74</td>\n",
       "      <td>8.81</td>\n",
       "      <td>8.75</td>\n",
       "    </tr>\n",
       "    <tr>\n",
       "      <th>Estonia</th>\n",
       "      <td>5.57</td>\n",
       "      <td>5.24</td>\n",
       "      <td>5.47</td>\n",
       "      <td>5.29</td>\n",
       "      <td>4.92</td>\n",
       "      <td>4.88</td>\n",
       "      <td>4.70</td>\n",
       "      <td>4.72</td>\n",
       "      <td>5.61</td>\n",
       "      <td>6.03</td>\n",
       "      <td>5.66</td>\n",
       "      <td>5.16</td>\n",
       "    </tr>\n",
       "    <tr>\n",
       "      <th>Euro area (13 countries)</th>\n",
       "      <td>NaN</td>\n",
       "      <td>4.97</td>\n",
       "      <td>5.00</td>\n",
       "      <td>5.04</td>\n",
       "      <td>4.95</td>\n",
       "      <td>4.89</td>\n",
       "      <td>4.87</td>\n",
       "      <td>4.80</td>\n",
       "      <td>4.94</td>\n",
       "      <td>5.32</td>\n",
       "      <td>5.28</td>\n",
       "      <td>5.15</td>\n",
       "    </tr>\n",
       "    <tr>\n",
       "      <th>Euro area (15 countries)</th>\n",
       "      <td>NaN</td>\n",
       "      <td>4.98</td>\n",
       "      <td>5.01</td>\n",
       "      <td>5.04</td>\n",
       "      <td>4.96</td>\n",
       "      <td>4.89</td>\n",
       "      <td>4.87</td>\n",
       "      <td>4.81</td>\n",
       "      <td>4.95</td>\n",
       "      <td>5.32</td>\n",
       "      <td>5.29</td>\n",
       "      <td>5.16</td>\n",
       "    </tr>\n",
       "    <tr>\n",
       "      <th>Euro area (17 countries)</th>\n",
       "      <td>NaN</td>\n",
       "      <td>NaN</td>\n",
       "      <td>4.86</td>\n",
       "      <td>4.89</td>\n",
       "      <td>4.80</td>\n",
       "      <td>4.72</td>\n",
       "      <td>4.69</td>\n",
       "      <td>4.79</td>\n",
       "      <td>4.94</td>\n",
       "      <td>5.31</td>\n",
       "      <td>5.28</td>\n",
       "      <td>5.15</td>\n",
       "    </tr>\n",
       "    <tr>\n",
       "      <th>Euro area (18 countries)</th>\n",
       "      <td>NaN</td>\n",
       "      <td>NaN</td>\n",
       "      <td>4.87</td>\n",
       "      <td>4.89</td>\n",
       "      <td>4.80</td>\n",
       "      <td>4.72</td>\n",
       "      <td>4.69</td>\n",
       "      <td>4.79</td>\n",
       "      <td>4.94</td>\n",
       "      <td>5.31</td>\n",
       "      <td>5.28</td>\n",
       "      <td>5.15</td>\n",
       "    </tr>\n",
       "    <tr>\n",
       "      <th>European Union (25 countries)</th>\n",
       "      <td>4.94</td>\n",
       "      <td>5.02</td>\n",
       "      <td>5.03</td>\n",
       "      <td>5.06</td>\n",
       "      <td>4.98</td>\n",
       "      <td>4.95</td>\n",
       "      <td>4.93</td>\n",
       "      <td>4.95</td>\n",
       "      <td>5.06</td>\n",
       "      <td>5.41</td>\n",
       "      <td>5.46</td>\n",
       "      <td>5.31</td>\n",
       "    </tr>\n",
       "    <tr>\n",
       "      <th>European Union (27 countries)</th>\n",
       "      <td>4.91</td>\n",
       "      <td>4.99</td>\n",
       "      <td>5.00</td>\n",
       "      <td>5.04</td>\n",
       "      <td>4.95</td>\n",
       "      <td>4.92</td>\n",
       "      <td>4.91</td>\n",
       "      <td>4.93</td>\n",
       "      <td>5.04</td>\n",
       "      <td>5.38</td>\n",
       "      <td>5.41</td>\n",
       "      <td>5.25</td>\n",
       "    </tr>\n",
       "    <tr>\n",
       "      <th>European Union (28 countries)</th>\n",
       "      <td>NaN</td>\n",
       "      <td>NaN</td>\n",
       "      <td>5.00</td>\n",
       "      <td>5.03</td>\n",
       "      <td>4.95</td>\n",
       "      <td>4.92</td>\n",
       "      <td>4.91</td>\n",
       "      <td>4.92</td>\n",
       "      <td>5.04</td>\n",
       "      <td>5.38</td>\n",
       "      <td>5.41</td>\n",
       "      <td>5.25</td>\n",
       "    </tr>\n",
       "    <tr>\n",
       "      <th>Finland</th>\n",
       "      <td>5.89</td>\n",
       "      <td>6.06</td>\n",
       "      <td>6.22</td>\n",
       "      <td>6.43</td>\n",
       "      <td>6.42</td>\n",
       "      <td>6.30</td>\n",
       "      <td>6.18</td>\n",
       "      <td>5.90</td>\n",
       "      <td>6.10</td>\n",
       "      <td>6.81</td>\n",
       "      <td>6.85</td>\n",
       "      <td>6.76</td>\n",
       "    </tr>\n",
       "    <tr>\n",
       "      <th>France</th>\n",
       "      <td>6.04</td>\n",
       "      <td>5.95</td>\n",
       "      <td>5.90</td>\n",
       "      <td>5.92</td>\n",
       "      <td>5.80</td>\n",
       "      <td>5.67</td>\n",
       "      <td>5.61</td>\n",
       "      <td>5.62</td>\n",
       "      <td>5.62</td>\n",
       "      <td>5.90</td>\n",
       "      <td>5.86</td>\n",
       "      <td>5.68</td>\n",
       "    </tr>\n",
       "    <tr>\n",
       "      <th>Germany (until 1990 former territory of the FRG)</th>\n",
       "      <td>4.45</td>\n",
       "      <td>4.51</td>\n",
       "      <td>4.72</td>\n",
       "      <td>4.74</td>\n",
       "      <td>4.62</td>\n",
       "      <td>4.57</td>\n",
       "      <td>4.43</td>\n",
       "      <td>4.49</td>\n",
       "      <td>4.57</td>\n",
       "      <td>5.06</td>\n",
       "      <td>5.08</td>\n",
       "      <td>4.98</td>\n",
       "    </tr>\n",
       "    <tr>\n",
       "      <th>Greece</th>\n",
       "      <td>3.71</td>\n",
       "      <td>3.50</td>\n",
       "      <td>3.57</td>\n",
       "      <td>3.56</td>\n",
       "      <td>3.83</td>\n",
       "      <td>4.09</td>\n",
       "      <td>NaN</td>\n",
       "      <td>NaN</td>\n",
       "      <td>NaN</td>\n",
       "      <td>NaN</td>\n",
       "      <td>NaN</td>\n",
       "      <td>NaN</td>\n",
       "    </tr>\n",
       "    <tr>\n",
       "      <th>Hungary</th>\n",
       "      <td>4.50</td>\n",
       "      <td>5.06</td>\n",
       "      <td>5.39</td>\n",
       "      <td>5.91</td>\n",
       "      <td>5.44</td>\n",
       "      <td>5.46</td>\n",
       "      <td>5.44</td>\n",
       "      <td>5.29</td>\n",
       "      <td>5.10</td>\n",
       "      <td>5.12</td>\n",
       "      <td>4.90</td>\n",
       "      <td>4.71</td>\n",
       "    </tr>\n",
       "    <tr>\n",
       "      <th>Ireland</th>\n",
       "      <td>4.29</td>\n",
       "      <td>4.24</td>\n",
       "      <td>4.27</td>\n",
       "      <td>4.35</td>\n",
       "      <td>4.66</td>\n",
       "      <td>4.72</td>\n",
       "      <td>4.73</td>\n",
       "      <td>4.92</td>\n",
       "      <td>5.67</td>\n",
       "      <td>6.43</td>\n",
       "      <td>6.41</td>\n",
       "      <td>6.15</td>\n",
       "    </tr>\n",
       "    <tr>\n",
       "      <th>Italy</th>\n",
       "      <td>4.52</td>\n",
       "      <td>4.83</td>\n",
       "      <td>4.60</td>\n",
       "      <td>4.72</td>\n",
       "      <td>4.56</td>\n",
       "      <td>4.41</td>\n",
       "      <td>4.67</td>\n",
       "      <td>4.27</td>\n",
       "      <td>4.56</td>\n",
       "      <td>4.70</td>\n",
       "      <td>4.50</td>\n",
       "      <td>4.29</td>\n",
       "    </tr>\n",
       "    <tr>\n",
       "      <th>Latvia</th>\n",
       "      <td>5.64</td>\n",
       "      <td>7.22</td>\n",
       "      <td>6.60</td>\n",
       "      <td>5.58</td>\n",
       "      <td>5.12</td>\n",
       "      <td>5.14</td>\n",
       "      <td>5.13</td>\n",
       "      <td>5.07</td>\n",
       "      <td>5.71</td>\n",
       "      <td>5.59</td>\n",
       "      <td>4.96</td>\n",
       "      <td>4.96</td>\n",
       "    </tr>\n",
       "    <tr>\n",
       "      <th>Lithuania</th>\n",
       "      <td>5.63</td>\n",
       "      <td>5.86</td>\n",
       "      <td>5.81</td>\n",
       "      <td>5.14</td>\n",
       "      <td>5.17</td>\n",
       "      <td>4.88</td>\n",
       "      <td>4.82</td>\n",
       "      <td>4.64</td>\n",
       "      <td>4.88</td>\n",
       "      <td>5.64</td>\n",
       "      <td>5.36</td>\n",
       "      <td>5.17</td>\n",
       "    </tr>\n",
       "    <tr>\n",
       "      <th>Luxembourg</th>\n",
       "      <td>NaN</td>\n",
       "      <td>3.75</td>\n",
       "      <td>3.79</td>\n",
       "      <td>3.77</td>\n",
       "      <td>3.87</td>\n",
       "      <td>3.78</td>\n",
       "      <td>3.41</td>\n",
       "      <td>3.15</td>\n",
       "      <td>NaN</td>\n",
       "      <td>NaN</td>\n",
       "      <td>NaN</td>\n",
       "      <td>NaN</td>\n",
       "    </tr>\n",
       "    <tr>\n",
       "      <th>Malta</th>\n",
       "      <td>4.52</td>\n",
       "      <td>4.27</td>\n",
       "      <td>4.22</td>\n",
       "      <td>4.48</td>\n",
       "      <td>4.66</td>\n",
       "      <td>6.58</td>\n",
       "      <td>6.45</td>\n",
       "      <td>6.18</td>\n",
       "      <td>5.72</td>\n",
       "      <td>5.32</td>\n",
       "      <td>6.74</td>\n",
       "      <td>7.96</td>\n",
       "    </tr>\n",
       "    <tr>\n",
       "      <th>Netherlands</th>\n",
       "      <td>4.98</td>\n",
       "      <td>5.09</td>\n",
       "      <td>5.22</td>\n",
       "      <td>5.47</td>\n",
       "      <td>5.50</td>\n",
       "      <td>5.53</td>\n",
       "      <td>5.50</td>\n",
       "      <td>5.32</td>\n",
       "      <td>5.50</td>\n",
       "      <td>5.95</td>\n",
       "      <td>5.98</td>\n",
       "      <td>5.93</td>\n",
       "    </tr>\n",
       "    <tr>\n",
       "      <th>Poland</th>\n",
       "      <td>4.87</td>\n",
       "      <td>5.42</td>\n",
       "      <td>5.41</td>\n",
       "      <td>5.35</td>\n",
       "      <td>5.41</td>\n",
       "      <td>5.47</td>\n",
       "      <td>5.25</td>\n",
       "      <td>4.91</td>\n",
       "      <td>5.08</td>\n",
       "      <td>5.09</td>\n",
       "      <td>5.17</td>\n",
       "      <td>4.94</td>\n",
       "    </tr>\n",
       "    <tr>\n",
       "      <th>Portugal</th>\n",
       "      <td>5.42</td>\n",
       "      <td>5.39</td>\n",
       "      <td>5.33</td>\n",
       "      <td>5.38</td>\n",
       "      <td>5.10</td>\n",
       "      <td>5.21</td>\n",
       "      <td>5.07</td>\n",
       "      <td>5.10</td>\n",
       "      <td>4.89</td>\n",
       "      <td>5.79</td>\n",
       "      <td>5.62</td>\n",
       "      <td>5.27</td>\n",
       "    </tr>\n",
       "    <tr>\n",
       "      <th>Romania</th>\n",
       "      <td>2.88</td>\n",
       "      <td>3.25</td>\n",
       "      <td>3.51</td>\n",
       "      <td>3.45</td>\n",
       "      <td>3.28</td>\n",
       "      <td>3.48</td>\n",
       "      <td>NaN</td>\n",
       "      <td>4.25</td>\n",
       "      <td>NaN</td>\n",
       "      <td>4.24</td>\n",
       "      <td>3.53</td>\n",
       "      <td>3.07</td>\n",
       "    </tr>\n",
       "    <tr>\n",
       "      <th>Slovakia</th>\n",
       "      <td>3.92</td>\n",
       "      <td>3.99</td>\n",
       "      <td>4.31</td>\n",
       "      <td>4.30</td>\n",
       "      <td>4.19</td>\n",
       "      <td>3.85</td>\n",
       "      <td>3.80</td>\n",
       "      <td>3.62</td>\n",
       "      <td>3.61</td>\n",
       "      <td>4.09</td>\n",
       "      <td>4.22</td>\n",
       "      <td>4.06</td>\n",
       "    </tr>\n",
       "    <tr>\n",
       "      <th>Slovenia</th>\n",
       "      <td>NaN</td>\n",
       "      <td>5.86</td>\n",
       "      <td>5.76</td>\n",
       "      <td>5.80</td>\n",
       "      <td>5.74</td>\n",
       "      <td>5.73</td>\n",
       "      <td>5.72</td>\n",
       "      <td>5.15</td>\n",
       "      <td>5.20</td>\n",
       "      <td>5.69</td>\n",
       "      <td>5.68</td>\n",
       "      <td>5.68</td>\n",
       "    </tr>\n",
       "    <tr>\n",
       "      <th>Spain</th>\n",
       "      <td>4.28</td>\n",
       "      <td>4.24</td>\n",
       "      <td>4.25</td>\n",
       "      <td>4.28</td>\n",
       "      <td>4.25</td>\n",
       "      <td>4.23</td>\n",
       "      <td>4.26</td>\n",
       "      <td>4.34</td>\n",
       "      <td>4.62</td>\n",
       "      <td>5.02</td>\n",
       "      <td>4.98</td>\n",
       "      <td>4.82</td>\n",
       "    </tr>\n",
       "  </tbody>\n",
       "</table>\n",
       "</div>"
      ],
      "text/plain": [
       "TIME                                              2000  2001  2002  2003  \\\n",
       "GEO                                                                        \n",
       "Austria                                           5.66  5.74  5.68  5.53   \n",
       "Belgium                                            NaN  5.99  6.09  6.02   \n",
       "Bulgaria                                          3.88  3.70  3.94  4.09   \n",
       "Cyprus                                            5.42  5.98  6.60  7.37   \n",
       "Czech Republic                                    3.83  3.93  4.15  4.32   \n",
       "Denmark                                           8.28  8.44  8.44  8.33   \n",
       "Estonia                                           5.57  5.24  5.47  5.29   \n",
       "Euro area (13 countries)                           NaN  4.97  5.00  5.04   \n",
       "Euro area (15 countries)                           NaN  4.98  5.01  5.04   \n",
       "Euro area (17 countries)                           NaN   NaN  4.86  4.89   \n",
       "Euro area (18 countries)                           NaN   NaN  4.87  4.89   \n",
       "European Union (25 countries)                     4.94  5.02  5.03  5.06   \n",
       "European Union (27 countries)                     4.91  4.99  5.00  5.04   \n",
       "European Union (28 countries)                      NaN   NaN  5.00  5.03   \n",
       "Finland                                           5.89  6.06  6.22  6.43   \n",
       "France                                            6.04  5.95  5.90  5.92   \n",
       "Germany (until 1990 former territory of the FRG)  4.45  4.51  4.72  4.74   \n",
       "Greece                                            3.71  3.50  3.57  3.56   \n",
       "Hungary                                           4.50  5.06  5.39  5.91   \n",
       "Ireland                                           4.29  4.24  4.27  4.35   \n",
       "Italy                                             4.52  4.83  4.60  4.72   \n",
       "Latvia                                            5.64  7.22  6.60  5.58   \n",
       "Lithuania                                         5.63  5.86  5.81  5.14   \n",
       "Luxembourg                                         NaN  3.75  3.79  3.77   \n",
       "Malta                                             4.52  4.27  4.22  4.48   \n",
       "Netherlands                                       4.98  5.09  5.22  5.47   \n",
       "Poland                                            4.87  5.42  5.41  5.35   \n",
       "Portugal                                          5.42  5.39  5.33  5.38   \n",
       "Romania                                           2.88  3.25  3.51  3.45   \n",
       "Slovakia                                          3.92  3.99  4.31  4.30   \n",
       "Slovenia                                           NaN  5.86  5.76  5.80   \n",
       "Spain                                             4.28  4.24  4.25  4.28   \n",
       "\n",
       "TIME                                              2004  2005  2006  2007  \\\n",
       "GEO                                                                        \n",
       "Austria                                           5.48  5.44  5.40  5.33   \n",
       "Belgium                                           5.95  5.92  5.98  6.00   \n",
       "Bulgaria                                          4.40  4.25  4.04  3.88   \n",
       "Cyprus                                            6.77  6.95  7.02  6.95   \n",
       "Czech Republic                                    4.20  4.08  4.42  4.05   \n",
       "Denmark                                           8.43  8.30  7.97  7.81   \n",
       "Estonia                                           4.92  4.88  4.70  4.72   \n",
       "Euro area (13 countries)                          4.95  4.89  4.87  4.80   \n",
       "Euro area (15 countries)                          4.96  4.89  4.87  4.81   \n",
       "Euro area (17 countries)                          4.80  4.72  4.69  4.79   \n",
       "Euro area (18 countries)                          4.80  4.72  4.69  4.79   \n",
       "European Union (25 countries)                     4.98  4.95  4.93  4.95   \n",
       "European Union (27 countries)                     4.95  4.92  4.91  4.93   \n",
       "European Union (28 countries)                     4.95  4.92  4.91  4.92   \n",
       "Finland                                           6.42  6.30  6.18  5.90   \n",
       "France                                            5.80  5.67  5.61  5.62   \n",
       "Germany (until 1990 former territory of the FRG)  4.62  4.57  4.43  4.49   \n",
       "Greece                                            3.83  4.09   NaN   NaN   \n",
       "Hungary                                           5.44  5.46  5.44  5.29   \n",
       "Ireland                                           4.66  4.72  4.73  4.92   \n",
       "Italy                                             4.56  4.41  4.67  4.27   \n",
       "Latvia                                            5.12  5.14  5.13  5.07   \n",
       "Lithuania                                         5.17  4.88  4.82  4.64   \n",
       "Luxembourg                                        3.87  3.78  3.41  3.15   \n",
       "Malta                                             4.66  6.58  6.45  6.18   \n",
       "Netherlands                                       5.50  5.53  5.50  5.32   \n",
       "Poland                                            5.41  5.47  5.25  4.91   \n",
       "Portugal                                          5.10  5.21  5.07  5.10   \n",
       "Romania                                           3.28  3.48   NaN  4.25   \n",
       "Slovakia                                          4.19  3.85  3.80  3.62   \n",
       "Slovenia                                          5.74  5.73  5.72  5.15   \n",
       "Spain                                             4.25  4.23  4.26  4.34   \n",
       "\n",
       "TIME                                              2008  2009  2010  2011  \n",
       "GEO                                                                       \n",
       "Austria                                           5.47  5.98  5.91  5.80  \n",
       "Belgium                                           6.43  6.57  6.58  6.55  \n",
       "Bulgaria                                          4.44  4.58  4.10  3.82  \n",
       "Cyprus                                            7.45  7.98  7.92  7.87  \n",
       "Czech Republic                                    3.92  4.36  4.25  4.51  \n",
       "Denmark                                           7.68  8.74  8.81  8.75  \n",
       "Estonia                                           5.61  6.03  5.66  5.16  \n",
       "Euro area (13 countries)                          4.94  5.32  5.28  5.15  \n",
       "Euro area (15 countries)                          4.95  5.32  5.29  5.16  \n",
       "Euro area (17 countries)                          4.94  5.31  5.28  5.15  \n",
       "Euro area (18 countries)                          4.94  5.31  5.28  5.15  \n",
       "European Union (25 countries)                     5.06  5.41  5.46  5.31  \n",
       "European Union (27 countries)                     5.04  5.38  5.41  5.25  \n",
       "European Union (28 countries)                     5.04  5.38  5.41  5.25  \n",
       "Finland                                           6.10  6.81  6.85  6.76  \n",
       "France                                            5.62  5.90  5.86  5.68  \n",
       "Germany (until 1990 former territory of the FRG)  4.57  5.06  5.08  4.98  \n",
       "Greece                                             NaN   NaN   NaN   NaN  \n",
       "Hungary                                           5.10  5.12  4.90  4.71  \n",
       "Ireland                                           5.67  6.43  6.41  6.15  \n",
       "Italy                                             4.56  4.70  4.50  4.29  \n",
       "Latvia                                            5.71  5.59  4.96  4.96  \n",
       "Lithuania                                         4.88  5.64  5.36  5.17  \n",
       "Luxembourg                                         NaN   NaN   NaN   NaN  \n",
       "Malta                                             5.72  5.32  6.74  7.96  \n",
       "Netherlands                                       5.50  5.95  5.98  5.93  \n",
       "Poland                                            5.08  5.09  5.17  4.94  \n",
       "Portugal                                          4.89  5.79  5.62  5.27  \n",
       "Romania                                            NaN  4.24  3.53  3.07  \n",
       "Slovakia                                          3.61  4.09  4.22  4.06  \n",
       "Slovenia                                          5.20  5.69  5.68  5.68  \n",
       "Spain                                             4.62  5.02  4.98  4.82  "
      ]
     },
     "execution_count": 26,
     "metadata": {},
     "output_type": "execute_result"
    }
   ],
   "source": [
    "ptable = pd.pivot_table(\n",
    "    edu,\n",
    "    values = 'Value',\n",
    "    index = 'GEO',\n",
    "    columns = 'TIME',\n",
    "    aggfunc = np.mean\n",
    ")\n",
    "ptable"
   ]
  },
  {
   "cell_type": "markdown",
   "metadata": {},
   "source": [
    "# Problem 7"
   ]
  },
  {
   "cell_type": "code",
   "execution_count": 27,
   "metadata": {},
   "outputs": [
    {
     "data": {
      "text/plain": [
       "array([[<matplotlib.axes._subplots.AxesSubplot object at 0x00000000099AA668>]],\n",
       "      dtype=object)"
      ]
     },
     "execution_count": 27,
     "metadata": {},
     "output_type": "execute_result"
    },
    {
     "data": {
      "image/png": "[encoded data removed]",
      "text/plain": [
       "<Figure size 432x288 with 1 Axes>"
      ]
     },
     "metadata": {
      "needs_background": "light"
     },
     "output_type": "display_data"
    }
   ],
   "source": [
    "edu[['GEO','Value']].groupby('GEO').mean().hist()"
   ]
  },
  {
   "cell_type": "code",
   "execution_count": null,
   "metadata": {},
   "outputs": [],
   "source": []
  }
 ],
 "metadata": {
  "kernelspec": {
   "display_name": "Python 2",
   "language": "python",
   "name": "python2"
  },
  "language_info": {
   "codemirror_mode": {
    "name": "ipython",
    "version": 2
   },
   "file_extension": ".py",
   "mimetype": "text/x-python",
   "name": "python",
   "nbconvert_exporter": "python",
   "pygments_lexer": "ipython2",
   "version": "2.7.16"
  }
 },
 "nbformat": 4,
 "nbformat_minor": 2
}
