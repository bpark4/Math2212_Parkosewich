{
 "cells": [
  {
   "cell_type": "markdown",
   "metadata": {},
   "source": [
    "# Question 1\n",
    "\n",
    "* age: Numerical\n",
    "* type-employer: Catagorical\n",
    "* fnlwgt: Numerical\n",
    "* education: Catagorical\n",
    "* education_num: Hard to tell whether it is numerical or catagorical, but I would say Numerical\n",
    "* marital: Catagorical\n",
    "* occupation: Catagorical\n",
    "* relationship: Catagorical\n",
    "* race: Catagorical\n",
    "* sex: Catagorical\n",
    "* capital_gain: Numerical\n",
    "* capital_loss: Numerical\n",
    "* hr_per_week: Numerical\n",
    "* country: Catagorical\n",
    "* income: Catagorical"
   ]
  },
  {
   "cell_type": "markdown",
   "metadata": {},
   "source": [
    "# Question 2\n",
    "\n",
    "* men: 21790 rows\n",
    "* women: 10771 rows\n",
    "* men_high_income: 6662 rows\n",
    "* women_high_income: 1179 rows\n",
    "* men_low_income: 15128 rows\n",
    "* women_low_income: 9592 rows"
   ]
  },
  {
   "cell_type": "code",
   "execution_count": null,
   "metadata": {},
   "outputs": [],
   "source": []
  }
 ],
 "metadata": {
  "kernelspec": {
   "display_name": "Python 2",
   "language": "python",
   "name": "python2"
  },
  "language_info": {
   "codemirror_mode": {
    "name": "ipython",
    "version": 2
   },
   "file_extension": ".py",
   "mimetype": "text/x-python",
   "name": "python",
   "nbconvert_exporter": "python",
   "pygments_lexer": "ipython2",
   "version": "2.7.16"
  }
 },
 "nbformat": 4,
 "nbformat_minor": 2
}
