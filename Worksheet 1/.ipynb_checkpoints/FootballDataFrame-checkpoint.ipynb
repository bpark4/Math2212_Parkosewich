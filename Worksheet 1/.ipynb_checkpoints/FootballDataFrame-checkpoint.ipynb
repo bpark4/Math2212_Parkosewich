{
 "cells": [
  {
   "cell_type": "code",
   "execution_count": 1,
   "metadata": {},
   "outputs": [],
   "source": [
    "import pandas as pd\n",
    "import numpy as np\n",
    "import matplotlib.pyplot as plt"
   ]
  },
  {
   "cell_type": "code",
   "execution_count": 6,
   "metadata": {},
   "outputs": [
    {
     "ename": "SyntaxError",
     "evalue": "invalid syntax (<ipython-input-6-80754f59b608>, line 2)",
     "output_type": "error",
     "traceback": [
      "\u001b[1;36m  File \u001b[1;32m\"<ipython-input-6-80754f59b608>\"\u001b[1;36m, line \u001b[1;32m2\u001b[0m\n\u001b[1;33m    ’year’ : [\u001b[0m\n\u001b[1;37m    ^\u001b[0m\n\u001b[1;31mSyntaxError\u001b[0m\u001b[1;31m:\u001b[0m invalid syntax\n"
     ]
    }
   ],
   "source": [
    "data = {\n",
    "    ’year’ : [\n",
    "        2010 , 2011 , 2012 ,\n",
    "        2010 , 2011 , 2012 ,\n",
    "        2010 , 2011 , 2012\n",
    "    ],\n",
    "    ’team’ : [\n",
    "        ’FCBarcelona ’, ’FCBarcelona ’,\n",
    "        ’FCBarcelona ’, ’RMadrid ’,\n",
    "        ’RMadrid ’, ’RMadrid ’,\n",
    "        ’ValenciaCF ’, ’ValenciaCF ’,\n",
    "        ’ValenciaCF ’\n",
    "    ],\n",
    "    ’wins’ : [30, 28, 32, 29, 32, 26, 21, 17, 19],\n",
    "    ’draws’ : [6, 7, 4, 5, 4, 7, 8, 10, 8],\n",
    "    ’losses ’ : [2, 3, 2, 4, 2, 5, 9, 11, 11]\n",
    "}\n",
    "\n",
    "football = pd.DataFrame(\n",
    "    data ,\n",
    "    columns = [\n",
    "        ’year’ , ’team’ , ’wins’ , ’draws ’ , ’losses ’\n",
    "    ]\n",
    ")\n",
    "\n",
    "football"
   ]
  },
  {
   "cell_type": "code",
   "execution_count": null,
   "metadata": {},
   "outputs": [],
   "source": []
  }
 ],
 "metadata": {
  "kernelspec": {
   "display_name": "Python 2",
   "language": "python",
   "name": "python2"
  },
  "language_info": {
   "codemirror_mode": {
    "name": "ipython",
    "version": 2
   },
   "file_extension": ".py",
   "mimetype": "text/x-python",
   "name": "python",
   "nbconvert_exporter": "python",
   "pygments_lexer": "ipython2",
   "version": "2.7.16"
  }
 },
 "nbformat": 4,
 "nbformat_minor": 2
}
